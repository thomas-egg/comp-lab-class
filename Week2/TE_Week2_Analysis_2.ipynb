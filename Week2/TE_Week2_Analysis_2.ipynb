{
 "cells": [
  {
   "cell_type": "code",
   "execution_count": 1,
   "metadata": {},
   "outputs": [
    {
     "data": {
      "text/plain": [
       "'\\nTom Egg\\nSeptember 14, 2023\\nWeek 2 - Program to Generate Figures (Bullet 4)\\n'"
      ]
     },
     "execution_count": 1,
     "metadata": {},
     "output_type": "execute_result"
    }
   ],
   "source": [
    "'''\n",
    "Tom Egg\n",
    "September 14, 2023\n",
    "Week 2 - Program to Generate Figures (Bullet 4)\n",
    "'''"
   ]
  },
  {
   "cell_type": "code",
   "execution_count": 2,
   "metadata": {},
   "outputs": [],
   "source": [
    "# Import libraries\n",
    "import numpy as np\n",
    "import matplotlib.pyplot as plt\n",
    "import mdtraj as md\n",
    "import os"
   ]
  },
  {
   "cell_type": "markdown",
   "metadata": {},
   "source": [
    "# Ubiquitin Structure"
   ]
  },
  {
   "cell_type": "code",
   "execution_count": 6,
   "metadata": {},
   "outputs": [
    {
     "name": "stdout",
     "output_type": "stream",
     "text": [
      "Number of Hydrogen Atoms : 0\n",
      "Number of Carbon Atoms : 378\n"
     ]
    }
   ],
   "source": [
    "# Load structure\n",
    "traj = md.load('Data/1UBQ.pdb')\n",
    "topology = traj.topology\n",
    "table, bonds = topology.to_dataframe()\n",
    "\n",
    "hydrogens = 0\n",
    "for element in table['element']:\n",
    "    if element == 'H':\n",
    "        hydrogens += 1\n",
    "\n",
    "# Print result\n",
    "print(f'Number of Hydrogen Atoms : {hydrogens}')\n",
    "\n",
    "# Sanity check\n",
    "carbons = 0\n",
    "for element in table['element']:\n",
    "    if element == 'C':\n",
    "        carbons += 1\n",
    "\n",
    "print(f'Number of Carbon Atoms : {carbons}')"
   ]
  },
  {
   "cell_type": "code",
   "execution_count": 14,
   "metadata": {},
   "outputs": [
    {
     "name": "stdout",
     "output_type": "stream",
     "text": [
      "18 out of 134 total residues\n"
     ]
    }
   ],
   "source": [
    "# Calculate secondary structure using the DSSP algorithm\n",
    "secondary_structure = md.compute_dssp(traj, simplified=True)\n",
    "\n",
    "# List to store the helical residues\n",
    "helical_residues = []\n",
    "for residue in secondary_structure[0]:\n",
    "    \n",
    "    # Test for helical code\n",
    "    if residue == 'H':\n",
    "        helical_residues.append(residue)\n",
    "\n",
    "print(f'{len(helical_residues)} out of {len(secondary_structure[0])} total residues')"
   ]
  }
 ],
 "metadata": {
  "kernelspec": {
   "display_name": "lab_env_2023",
   "language": "python",
   "name": "lab_env_2023"
  },
  "language_info": {
   "codemirror_mode": {
    "name": "ipython",
    "version": 3
   },
   "file_extension": ".py",
   "mimetype": "text/x-python",
   "name": "python",
   "nbconvert_exporter": "python",
   "pygments_lexer": "ipython3",
   "version": "3.9.12"
  },
  "orig_nbformat": 4
 },
 "nbformat": 4,
 "nbformat_minor": 2
}
