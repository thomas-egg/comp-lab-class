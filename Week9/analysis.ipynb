{
 "cells": [
  {
   "cell_type": "markdown",
   "metadata": {},
   "source": [
    "# Analysis - RDF and MSD"
   ]
  },
  {
   "cell_type": "code",
   "execution_count": 19,
   "metadata": {},
   "outputs": [],
   "source": [
    "import MDAnalysis as mda\n",
    "from MDAnalysis.analysis.rdf import InterRDF\n",
    "import matplotlib.pyplot as plt\n",
    "import numpy as np\n",
    "import os"
   ]
  },
  {
   "cell_type": "code",
   "execution_count": 25,
   "metadata": {},
   "outputs": [
    {
     "name": "stderr",
     "output_type": "stream",
     "text": [
      "/ext3/miniconda3/lib/python3.9/site-packages/MDAnalysis/topology/LAMMPSParser.py:631: UserWarning: Guessed all Masses to 1.0\n",
      "  warnings.warn('Guessed all Masses to 1.0')\n",
      "/ext3/miniconda3/lib/python3.9/site-packages/MDAnalysis/analysis/rdf.py:316: DeprecationWarning: The `bins` attribute was deprecated in MDAnalysis 2.0.0 and will be removed in MDAnalysis 3.0.0. Please use `results.bins` instead\n",
      "  warnings.warn(wmsg, DeprecationWarning)\n",
      "/ext3/miniconda3/lib/python3.9/site-packages/MDAnalysis/analysis/rdf.py:324: DeprecationWarning: The `rdf` attribute was deprecated in MDAnalysis 2.0.0 and will be removed in MDAnalysis 3.0.0. Please use `results.rdf` instead\n",
      "  warnings.warn(wmsg, DeprecationWarning)\n"
     ]
    }
   ],
   "source": [
    "# Collect files\n",
    "temps = [\"0.475\", \"0.55\", \"0.5\", \"0.65\", \"0.6\", \"0.7\", \"0.8\", \"0.9\", \"1.5\", \"1\"]\n",
    "steps = [\"30000000\", \"3000000\", \"10000000\", \"350000\", \"1000000\", \"180000\", \"150000\", \"150000\", \"10000\", \"50000\"]\n",
    "\n",
    "# Plot data\n",
    "fig1, ax1 = plt.subplots()\n",
    "for temp, step in zip(temps, steps):\n",
    "\n",
    "    # Import and plot\n",
    "    traj = mda.Universe(f\"Data/equil/kalj_T{temp}_n360_v300_{step}_1.lammpstrj\", f\"Data/prod/kalj_T{temp}_n360_v300_prod_{step}_1.unwrap.dcd\", topology_format=\"LAMMPSDUMP\")\n",
    "    t_1 = traj.select_atoms('type 1')\n",
    "    t_2 = traj.select_atoms('type 2')\n",
    "\n",
    "    # 1 - 1\n",
    "    g_11 = InterRDF(t_1, t_1, nbins=100)\n",
    "    g_11.run()\n",
    "    ax1.plot(g_11.bins, g_11.rdf, label=temp)\n",
    "\n",
    "# Show plot\n",
    "ax1.set_xlabel('Distance $\\AA$')\n",
    "ax1.set_ylabel('RDF')\n",
    "ax1.legend()\n",
    "plt.show()"
   ]
  },
  {
   "cell_type": "code",
   "execution_count": null,
   "metadata": {},
   "outputs": [],
   "source": []
  }
 ],
 "metadata": {
  "kernelspec": {
   "display_name": "lab_env_2023",
   "language": "python",
   "name": "lab_env_2023"
  },
  "language_info": {
   "codemirror_mode": {
    "name": "ipython",
    "version": 3
   },
   "file_extension": ".py",
   "mimetype": "text/x-python",
   "name": "python",
   "nbconvert_exporter": "python",
   "pygments_lexer": "ipython3",
   "version": "3.9.12"
  },
  "orig_nbformat": 4
 },
 "nbformat": 4,
 "nbformat_minor": 2
}
