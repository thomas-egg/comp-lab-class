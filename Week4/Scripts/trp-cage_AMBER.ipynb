{
 "cells": [
  {
   "cell_type": "markdown",
   "metadata": {},
   "source": [
    "# Trp-cage System"
   ]
  },
  {
   "cell_type": "markdown",
   "metadata": {},
   "source": [
    "This file contains the code to generate figures pertaining to the Week 4 simulation of trp-cage."
   ]
  },
  {
   "cell_type": "code",
   "execution_count": 2,
   "metadata": {},
   "outputs": [],
   "source": [
    "# Import libraries\n",
    "import numpy as np\n",
    "import pandas as pd\n",
    "import mdtraj as md\n",
    "import matplotlib.pyplot as plt"
   ]
  },
  {
   "cell_type": "code",
   "execution_count": null,
   "metadata": {},
   "outputs": [],
   "source": [
    "# Import trajectory\n",
    "file_path = 'ADD FILE PATH'\n",
    "traj = md.load_xtc(file_path)"
   ]
  },
  {
   "cell_type": "code",
   "execution_count": null,
   "metadata": {},
   "outputs": [],
   "source": [
    "# compute the distance between the first and last atom\n",
    "def end_end(traj):\n",
    "    # get the first and last atom\n",
    "    first = traj.xyz[:,0,:]\n",
    "    last = traj.xyz[:,-1,:]\n",
    "    # compute the distance between the first and last atom\n",
    "    dist = np.sqrt(np.sum((first-last)**2, axis=1))\n",
    "    return dist\n",
    "\n",
    "# compute the distance between the first and last atom\n",
    "dist = end_end(traj)\n",
    "\n",
    "#plot distance vs time\n",
    "plt.plot(traj.time, dist)"
   ]
  }
 ],
 "metadata": {
  "kernelspec": {
   "display_name": "lab_env_2023",
   "language": "python",
   "name": "lab_env_2023"
  },
  "language_info": {
   "codemirror_mode": {
    "name": "ipython",
    "version": 3
   },
   "file_extension": ".py",
   "mimetype": "text/x-python",
   "name": "python",
   "nbconvert_exporter": "python",
   "pygments_lexer": "ipython3",
   "version": "3.9.12"
  },
  "orig_nbformat": 4,
  "vscode": {
   "interpreter": {
    "hash": "31f2aee4e71d21fbe5cf8b01ff0e069b9275f58929596ceb00d14d90e3e16cd6"
   }
  }
 },
 "nbformat": 4,
 "nbformat_minor": 2
}
